{
 "cells": [
  {
   "cell_type": "code",
   "execution_count": 56,
   "id": "ee576351-89e9-4696-889d-6e23fd3a35fd",
   "metadata": {},
   "outputs": [],
   "source": [
    "import numpy as np\n",
    "import pandas as pd\n",
    "from sklearn.linear_model import LogisticRegression\n",
    "from sklearn.metrics import auc, roc_curve\n",
    "from sklearn.model_selection import train_test_split\n",
    "from sklearn.feature_extraction.text import TfidfVectorizer\n",
    "import matplotlib as plt"
   ]
  },
  {
   "cell_type": "code",
   "execution_count": 58,
   "id": "328e14c0-b27a-4051-b5b7-2c4276b943d4",
   "metadata": {},
   "outputs": [],
   "source": [
    "train = pd.read_csv(\"../data/train.csv\")\n",
    "test = pd.read_csv(\"../data/test.csv\")"
   ]
  },
  {
   "cell_type": "code",
   "execution_count": 59,
   "id": "c3bde452-d328-4b5e-960a-9fcb3d700d5b",
   "metadata": {},
   "outputs": [],
   "source": [
    "train = train[[\"target\",\"comment_text\"]]\n",
    "train[\"label\"] = [1 if i >= 0.5 else 0 for i in train[\"target\"]]\n",
    "train, valid = train_test_split(train, test_size=0.33, random_state=42)"
   ]
  },
  {
   "cell_type": "code",
   "execution_count": null,
   "id": "2d6b5499-6c29-45b3-9d52-06ae23aaf9e8",
   "metadata": {},
   "outputs": [],
   "source": [
    "vectorizer = TfidfVectorizer()\n",
    "X = vectorizer.fit_transform(train[\"comment_text\"])\n",
    "X_valid = vectorizer.transform(valid[\"comment_text\"])\n",
    "#print(vectorizer.get_feature_names())\n",
    "\n",
    "#pd.DataFrame(X.toarray(),columns = vectorizer.get_feature_names())"
   ]
  },
  {
   "cell_type": "code",
   "execution_count": null,
   "id": "764f0ecb-8a73-477a-9c8a-7115499d2dc3",
   "metadata": {},
   "outputs": [],
   "source": [
    "model = LogisticRegression()\n",
    "model.fit(X, train[\"label\"])\n",
    "p = model.predict_proba(X_valid)"
   ]
  },
  {
   "cell_type": "code",
   "execution_count": null,
   "id": "61c4ca2d-035b-4ac8-9444-905070c35fd4",
   "metadata": {},
   "outputs": [],
   "source": [
    "dfp = pd.DataFrame(np.concatenate((np.transpose([p[:,1]]), valid[[\"label\"]].values), axis=1), columns = [\"p\", \"label\"])\n",
    "dfp.groupby('label').hist()"
   ]
  },
  {
   "cell_type": "code",
   "execution_count": null,
   "id": "6e9ab9b1-72a7-4c9f-9faa-c6ed5c38f60f",
   "metadata": {},
   "outputs": [],
   "source": [
    "fpr, tpr, thresholds = roc_curve(valid[\"label\"], p[:,1], pos_label=1)\n",
    "auc(fpr, tpr)\n"
   ]
  },
  {
   "cell_type": "code",
   "execution_count": 39,
   "id": "f6ca8345-d2f8-4506-a485-93f4714821a3",
   "metadata": {},
   "outputs": [
    {
     "data": {
      "text/html": [
       "<div>\n",
       "<style scoped>\n",
       "    .dataframe tbody tr th:only-of-type {\n",
       "        vertical-align: middle;\n",
       "    }\n",
       "\n",
       "    .dataframe tbody tr th {\n",
       "        vertical-align: top;\n",
       "    }\n",
       "\n",
       "    .dataframe thead th {\n",
       "        text-align: right;\n",
       "    }\n",
       "</style>\n",
       "<table border=\"1\" class=\"dataframe\">\n",
       "  <thead>\n",
       "    <tr style=\"text-align: right;\">\n",
       "      <th></th>\n",
       "      <th>id</th>\n",
       "      <th>comment_text</th>\n",
       "    </tr>\n",
       "  </thead>\n",
       "  <tbody>\n",
       "    <tr>\n",
       "      <th>0</th>\n",
       "      <td>7097320</td>\n",
       "      <td>[ Integrity means that you pay your debts.]\\n\\...</td>\n",
       "    </tr>\n",
       "    <tr>\n",
       "      <th>1</th>\n",
       "      <td>7097321</td>\n",
       "      <td>This is malfeasance by the Administrator and t...</td>\n",
       "    </tr>\n",
       "    <tr>\n",
       "      <th>2</th>\n",
       "      <td>7097322</td>\n",
       "      <td>@Rmiller101 - Spoken like a true elitist. But ...</td>\n",
       "    </tr>\n",
       "    <tr>\n",
       "      <th>3</th>\n",
       "      <td>7097323</td>\n",
       "      <td>Paul: Thank you for your kind words.  I do, in...</td>\n",
       "    </tr>\n",
       "    <tr>\n",
       "      <th>4</th>\n",
       "      <td>7097324</td>\n",
       "      <td>Sorry you missed high school. Eisenhower sent ...</td>\n",
       "    </tr>\n",
       "    <tr>\n",
       "      <th>...</th>\n",
       "      <td>...</td>\n",
       "      <td>...</td>\n",
       "    </tr>\n",
       "    <tr>\n",
       "      <th>97315</th>\n",
       "      <td>7194635</td>\n",
       "      <td>He should lose his job for promoting mis-infor...</td>\n",
       "    </tr>\n",
       "    <tr>\n",
       "      <th>97316</th>\n",
       "      <td>7194636</td>\n",
       "      <td>\"Thinning project is meant to lower fire dange...</td>\n",
       "    </tr>\n",
       "    <tr>\n",
       "      <th>97317</th>\n",
       "      <td>7194637</td>\n",
       "      <td>I hope you millennials are happy that you put ...</td>\n",
       "    </tr>\n",
       "    <tr>\n",
       "      <th>97318</th>\n",
       "      <td>7194638</td>\n",
       "      <td>I'm thinking Kellyanne Conway (a.k.a. The Trum...</td>\n",
       "    </tr>\n",
       "    <tr>\n",
       "      <th>97319</th>\n",
       "      <td>7194639</td>\n",
       "      <td>I still can't figure why a pizza in AK cost mo...</td>\n",
       "    </tr>\n",
       "  </tbody>\n",
       "</table>\n",
       "<p>97320 rows × 2 columns</p>\n",
       "</div>"
      ],
      "text/plain": [
       "            id                                       comment_text\n",
       "0      7097320  [ Integrity means that you pay your debts.]\\n\\...\n",
       "1      7097321  This is malfeasance by the Administrator and t...\n",
       "2      7097322  @Rmiller101 - Spoken like a true elitist. But ...\n",
       "3      7097323  Paul: Thank you for your kind words.  I do, in...\n",
       "4      7097324  Sorry you missed high school. Eisenhower sent ...\n",
       "...        ...                                                ...\n",
       "97315  7194635  He should lose his job for promoting mis-infor...\n",
       "97316  7194636  \"Thinning project is meant to lower fire dange...\n",
       "97317  7194637  I hope you millennials are happy that you put ...\n",
       "97318  7194638  I'm thinking Kellyanne Conway (a.k.a. The Trum...\n",
       "97319  7194639  I still can't figure why a pizza in AK cost mo...\n",
       "\n",
       "[97320 rows x 2 columns]"
      ]
     },
     "execution_count": 39,
     "metadata": {},
     "output_type": "execute_result"
    }
   ],
   "source": [
    "test"
   ]
  },
  {
   "cell_type": "code",
   "execution_count": null,
   "id": "2053c2f1-730c-4129-ba3d-0fd9573e1ddb",
   "metadata": {},
   "outputs": [],
   "source": []
  }
 ],
 "metadata": {
  "kernelspec": {
   "display_name": "Python 3",
   "language": "python",
   "name": "python3"
  },
  "language_info": {
   "codemirror_mode": {
    "name": "ipython",
    "version": 3
   },
   "file_extension": ".py",
   "mimetype": "text/x-python",
   "name": "python",
   "nbconvert_exporter": "python",
   "pygments_lexer": "ipython3",
   "version": "3.9.5"
  }
 },
 "nbformat": 4,
 "nbformat_minor": 5
}
