{
 "cells": [
  {
   "cell_type": "code",
   "execution_count": 56,
   "id": "ee576351-89e9-4696-889d-6e23fd3a35fd",
   "metadata": {},
   "outputs": [],
   "source": [
    "import numpy as np\n",
    "import pandas as pd\n",
    "from sklearn.linear_model import LogisticRegression\n",
    "from sklearn.metrics import auc, roc_curve\n",
    "from sklearn.model_selection import train_test_split\n",
    "from sklearn.feature_extraction.text import TfidfVectorizer\n",
    "import matplotlib as plt"
   ]
  },
  {
   "cell_type": "code",
   "execution_count": 58,
   "id": "328e14c0-b27a-4051-b5b7-2c4276b943d4",
   "metadata": {},
   "outputs": [],
   "source": [
    "train = pd.read_csv(\"../data/train.csv\")\n",
    "test = pd.read_csv(\"../data/test.csv\")"
   ]
  },
  {
   "cell_type": "code",
   "execution_count": 59,
   "id": "c3bde452-d328-4b5e-960a-9fcb3d700d5b",
   "metadata": {},
   "outputs": [],
   "source": [
    "train = train[[\"target\",\"comment_text\"]]\n",
    "train[\"label\"] = [1 if i >= 0.5 else 0 for i in train[\"target\"]]\n",
    "train, valid = train_test_split(train, test_size=0.33, random_state=42)"
   ]
  },
  {
   "cell_type": "code",
   "execution_count": 90,
   "id": "2d6b5499-6c29-45b3-9d52-06ae23aaf9e8",
   "metadata": {},
   "outputs": [],
   "source": [
    "vectorizer = TfidfVectorizer(ngram_range = (1,4), analyzer='char')\n",
    "X = vectorizer.fit_transform(train[\"comment_text\"])\n",
    "X_valid = vectorizer.transform(valid[\"comment_text\"])\n",
    "X_test = vectorizer.transform(test[\"comment_text\"])\n",
    "\n",
    "#print(vectorizer.get_feature_names())\n",
    "\n",
    "#pd.DataFrame(X.toarray(),columns = vectorizer.get_feature_names())"
   ]
  },
  {
   "cell_type": "code",
   "execution_count": 91,
   "id": "bda43195-8151-4f9d-9872-31558bd6813b",
   "metadata": {},
   "outputs": [
    {
     "data": {
      "text/plain": [
       "(1209265, 899728)"
      ]
     },
     "execution_count": 91,
     "metadata": {},
     "output_type": "execute_result"
    }
   ],
   "source": [
    "X.shape"
   ]
  },
  {
   "cell_type": "code",
   "execution_count": 92,
   "id": "764f0ecb-8a73-477a-9c8a-7115499d2dc3",
   "metadata": {},
   "outputs": [
    {
     "name": "stderr",
     "output_type": "stream",
     "text": [
      "/Library/Frameworks/Python.framework/Versions/3.9/lib/python3.9/site-packages/sklearn/linear_model/_logistic.py:763: ConvergenceWarning: lbfgs failed to converge (status=1):\n",
      "STOP: TOTAL NO. of ITERATIONS REACHED LIMIT.\n",
      "\n",
      "Increase the number of iterations (max_iter) or scale the data as shown in:\n",
      "    https://scikit-learn.org/stable/modules/preprocessing.html\n",
      "Please also refer to the documentation for alternative solver options:\n",
      "    https://scikit-learn.org/stable/modules/linear_model.html#logistic-regression\n",
      "  n_iter_i = _check_optimize_result(\n"
     ]
    }
   ],
   "source": [
    "model = LogisticRegression()\n",
    "model.fit(X, train[\"label\"])\n",
    "p = model.predict_proba(X_valid)"
   ]
  },
  {
   "cell_type": "code",
   "execution_count": 93,
   "id": "61c4ca2d-035b-4ac8-9444-905070c35fd4",
   "metadata": {},
   "outputs": [
    {
     "data": {
      "text/plain": [
       "label\n",
       "0.0    [[AxesSubplot(0.125,0.125;0.336957x0.755), Axe...\n",
       "1.0    [[AxesSubplot(0.125,0.125;0.336957x0.755), Axe...\n",
       "dtype: object"
      ]
     },
     "execution_count": 93,
     "metadata": {},
     "output_type": "execute_result"
    },
    {
     "data": {
      "image/png": "[encoded data removed]",
      "text/plain": [
       "<Figure size 432x288 with 2 Axes>"
      ]
     },
     "metadata": {
      "needs_background": "light"
     },
     "output_type": "display_data"
    },
    {
     "data": {
      "image/png": "[encoded data removed]",
      "text/plain": [
       "<Figure size 432x288 with 2 Axes>"
      ]
     },
     "metadata": {
      "needs_background": "light"
     },
     "output_type": "display_data"
    }
   ],
   "source": [
    "dfp = pd.DataFrame(np.concatenate((np.transpose([p[:,1]]), valid[[\"label\"]].values), axis=1), columns = [\"p\", \"label\"])\n",
    "dfp.groupby('label').hist()"
   ]
  },
  {
   "cell_type": "code",
   "execution_count": 94,
   "id": "6e9ab9b1-72a7-4c9f-9faa-c6ed5c38f60f",
   "metadata": {},
   "outputs": [
    {
     "data": {
      "text/plain": [
       "0.9382564484324162"
      ]
     },
     "execution_count": 94,
     "metadata": {},
     "output_type": "execute_result"
    }
   ],
   "source": [
    "fpr, tpr, thresholds = roc_curve(valid[\"label\"], p[:,1], pos_label=1)\n",
    "auc(fpr, tpr)\n"
   ]
  },
  {
   "cell_type": "code",
   "execution_count": 88,
   "id": "2053c2f1-730c-4129-ba3d-0fd9573e1ddb",
   "metadata": {},
   "outputs": [],
   "source": [
    "p_test = model.predict_proba(X_test)"
   ]
  },
  {
   "cell_type": "code",
   "execution_count": 81,
   "id": "bb42fb01-42f0-40cc-9cf7-133f975da5d4",
   "metadata": {},
   "outputs": [],
   "source": [
    "test[\"prediction\"] = p_test[:,1]"
   ]
  },
  {
   "cell_type": "code",
   "execution_count": 82,
   "id": "71f92728-1c66-4245-ab2c-8e0c41e1abd9",
   "metadata": {},
   "outputs": [],
   "source": [
    "test[[\"id\", \"prediction\"]].to_csv(\"/tmp/submission.csv\", index=False)"
   ]
  },
  {
   "cell_type": "code",
   "execution_count": null,
   "id": "421be25d-0f99-45a8-bba7-1652a20b6644",
   "metadata": {},
   "outputs": [],
   "source": []
  }
 ],
 "metadata": {
  "kernelspec": {
   "display_name": "Python 3",
   "language": "python",
   "name": "python3"
  },
  "language_info": {
   "codemirror_mode": {
    "name": "ipython",
    "version": 3
   },
   "file_extension": ".py",
   "mimetype": "text/x-python",
   "name": "python",
   "nbconvert_exporter": "python",
   "pygments_lexer": "ipython3",
   "version": "3.9.5"
  }
 },
 "nbformat": 4,
 "nbformat_minor": 5
}
